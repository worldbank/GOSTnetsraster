{
 "cells": [
  {
   "cell_type": "markdown",
   "metadata": {},
   "source": [
    "# Generate Friction Surface"
   ]
  },
  {
   "cell_type": "code",
   "execution_count": 2,
   "metadata": {},
   "outputs": [],
   "source": [
    "import sys, os, importlib\n",
    "import rasterio\n",
    "\n",
    "import numpy as np\n",
    "import pandas as pd\n",
    "import geopandas as gpd\n",
    "import osmnx as ox\n",
    "import GOSTnets as gn\n",
    "import skimage.graph as graph\n",
    "#import GOSTnets.load_osm as osm\n",
    "\n",
    "from rasterio.mask import mask\n",
    "from rasterio import features\n",
    "from shapely.geometry import box, Point, Polygon\n",
    "from scipy.ndimage import generic_filter\n",
    "from pandana.loaders import osm\n",
    "\n",
    "sys.path.insert(0, \"/home/jupyter-wb411133/Code/gostrocks/src\")\n",
    "import GOSTRocks.rasterMisc as rMisc\n",
    "import GOSTRocks.osmMisc as osmMisc\n",
    "from GOSTRocks.misc import tPrint\n",
    "\n",
    "sys.path.append(\"../src\")\n",
    "import GOSTNetsRaster.market_access as ma\n",
    "import GOSTNetsRaster.conversion_tables as speed_tables"
   ]
  },
  {
   "cell_type": "code",
   "execution_count": 31,
   "metadata": {},
   "outputs": [],
   "source": [
    "# define input data\n",
    "base_folder = '/home/public/Projects/PAK_GOSTNets/Data/'\n",
    "aoi_file = '/home/public/Projects/PAK_GOSTNets/Data/geoBoundaries-PAK-ADM1.geojson'\n",
    "global_landcover = '/home/public/GLOBAL/Landcover/Copernicus/PROBAV_LC100_global_v3.0.1_2019-nrt_Discrete-Classification-map_EPSG-4326.tif'\n",
    "osm_file = '/home/public/Projects/PAK_GOSTNets/Data/pakistan-latest.osm.pbf'\n",
    "sel_province = \"Sindh\"\n",
    "\n",
    "output_folder = os.path.join(base_folder, sel_province)\n",
    "if not os.path.exists(output_folder):\n",
    "    os.makedirs(output_folder)\n",
    "    \n",
    "local_lc_file = os.path.join(output_folder, \"LANDCOVER.tif\")\n",
    "local_osm = os.path.join(output_folder, \"OSM_highways.osm.pbf\")\n",
    "local_friction = os.path.join(output_folder, \"friction_surface.tif\")"
   ]
  },
  {
   "cell_type": "code",
   "execution_count": 4,
   "metadata": {},
   "outputs": [],
   "source": [
    "inA = gpd.read_file(aoi_file)\n",
    "inA = inA.loc[inA['shapeName'] == sel_province]"
   ]
  },
  {
   "cell_type": "code",
   "execution_count": 5,
   "metadata": {},
   "outputs": [],
   "source": [
    "if not os.path.exists(local_lc_file):\n",
    "    inR = rasterio.open(global_landcover)\n",
    "    rMisc.clipRaster(inR, inA, local_lc_file)\n",
    "inR = rasterio.open(local_lc_file)"
   ]
  },
  {
   "cell_type": "code",
   "execution_count": 6,
   "metadata": {},
   "outputs": [],
   "source": [
    "if not os.path.exists(local_osm):\n",
    "    osm_extract = osmMisc.osmExtraction(osmosisCmd = \"/home/jupyter-wb411133/Code/osmosis/bin/osmosis\",tempFile = \"/home/jupyter-wb411133/Code/tempFile.bat\")\n",
    "    osm_extract.extractHighways(osm_file, local_osm, bounds = inA.total_bounds, execute=True)"
   ]
  },
  {
   "cell_type": "markdown",
   "metadata": {},
   "source": [
    "# Generate friction surface"
   ]
  },
  {
   "cell_type": "code",
   "execution_count": null,
   "metadata": {},
   "outputs": [],
   "source": [
    "roads = osmMisc.convertOSMPBF_DataFrame(local_osm, \"lines\")\n",
    "roads['speed'] = roads['highway'].map(speed_tables.osm_speed_dict).fillna(10)"
   ]
  },
  {
   "cell_type": "code",
   "execution_count": 83,
   "metadata": {},
   "outputs": [
    {
     "data": {
      "text/plain": [
       "\u001b[0;31mSignature:\u001b[0m\n",
       "\u001b[0mma\u001b[0m\u001b[0;34m.\u001b[0m\u001b[0mgenerate_roads_lc_friction\u001b[0m\u001b[0;34m(\u001b[0m\u001b[0;34m\u001b[0m\n",
       "\u001b[0;34m\u001b[0m    \u001b[0mlc_file\u001b[0m\u001b[0;34m,\u001b[0m\u001b[0;34m\u001b[0m\n",
       "\u001b[0;34m\u001b[0m    \u001b[0msel_roads\u001b[0m\u001b[0;34m,\u001b[0m\u001b[0;34m\u001b[0m\n",
       "\u001b[0;34m\u001b[0m    \u001b[0mlc_travel_table\u001b[0m\u001b[0;34m=\u001b[0m\u001b[0;32mNone\u001b[0m\u001b[0;34m,\u001b[0m\u001b[0;34m\u001b[0m\n",
       "\u001b[0;34m\u001b[0m    \u001b[0mmin_lc_val\u001b[0m\u001b[0;34m=\u001b[0m\u001b[0;36m0.01\u001b[0m\u001b[0;34m,\u001b[0m\u001b[0;34m\u001b[0m\n",
       "\u001b[0;34m\u001b[0m    \u001b[0mmin_road_speed\u001b[0m\u001b[0;34m=\u001b[0m\u001b[0;36m0.01\u001b[0m\u001b[0;34m,\u001b[0m\u001b[0;34m\u001b[0m\n",
       "\u001b[0;34m\u001b[0m    \u001b[0mspeed_col\u001b[0m\u001b[0;34m=\u001b[0m\u001b[0;34m'speed'\u001b[0m\u001b[0;34m,\u001b[0m\u001b[0;34m\u001b[0m\n",
       "\u001b[0;34m\u001b[0m    \u001b[0mresolution\u001b[0m\u001b[0;34m=\u001b[0m\u001b[0;36m100\u001b[0m\u001b[0;34m,\u001b[0m\u001b[0;34m\u001b[0m\n",
       "\u001b[0;34m\u001b[0m    \u001b[0mout_file\u001b[0m\u001b[0;34m=\u001b[0m\u001b[0;34m''\u001b[0m\u001b[0;34m,\u001b[0m\u001b[0;34m\u001b[0m\n",
       "\u001b[0;34m\u001b[0m\u001b[0;34m)\u001b[0m\u001b[0;34m\u001b[0m\u001b[0;34m\u001b[0m\u001b[0m\n",
       "\u001b[0;31mDocstring:\u001b[0m\n",
       "Combine a landcover dataset and a road network dataset to create\n",
       "a friction surface. See generate_lc_friction and generate_road_friction for more details\n",
       "\n",
       "Returns\n",
       "dictionary of 'meta'[dictionary] and 'friction'[numpy array] - meta is metadata required to write rasterio\n",
       "    friction is the resulting friction surface used to run in GOSTNets Raster\n",
       "\u001b[0;31mFile:\u001b[0m      ~/Code/GOSTNets_Raster/src/GOSTNetsRaster/market_access.py\n",
       "\u001b[0;31mType:\u001b[0m      function\n"
      ]
     },
     "metadata": {},
     "output_type": "display_data"
    }
   ],
   "source": [
    "importlib.reload(ma)\n",
    "ma.generate_roads_lc_friction?"
   ]
  },
  {
   "cell_type": "code",
   "execution_count": 82,
   "metadata": {},
   "outputs": [
    {
     "name": "stderr",
     "output_type": "stream",
     "text": [
      "/home/jupyter-wb411133/Code/GOSTNets_Raster/notebooks/../src/GOSTNetsRaster/market_access.py:150: RuntimeWarning: divide by zero encountered in true_divide\n",
      "  res = resolution / (res * 1000 / (60 * 60)) # km/h --> m/s * resolution of image in metres\n"
     ]
    }
   ],
   "source": [
    "res = ma.generate_roads_lc_friction(inR, roads)"
   ]
  }
 ],
 "metadata": {
  "kernelspec": {
   "display_name": "gn",
   "language": "python",
   "name": "gn"
  },
  "language_info": {
   "codemirror_mode": {
    "name": "ipython",
    "version": 3
   },
   "file_extension": ".py",
   "mimetype": "text/x-python",
   "name": "python",
   "nbconvert_exporter": "python",
   "pygments_lexer": "ipython3",
   "version": "3.12.7"
  }
 },
 "nbformat": 4,
 "nbformat_minor": 4
}
