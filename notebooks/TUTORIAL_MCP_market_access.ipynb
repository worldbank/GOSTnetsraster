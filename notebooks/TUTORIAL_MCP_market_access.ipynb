{
 "cells": [
  {
   "cell_type": "markdown",
   "metadata": {},
   "source": [
    "# Raster-based market access\n",
    "\n",
    "Following in the footsteps of the Malaria Atlas Project's <a href=\"https://developers.google.com/earth-engine/datasets/catalog/Oxford_MAP_friction_surface_2015_v1_0\">Global Friction Surface</a>, this notebook explores a set of tools for calculating:\n",
    "\n",
    "1. Travel time rasters\n",
    "2. Drive-time polygons\n",
    "3. Marketsheds\n"
   ]
  },
  {
   "cell_type": "code",
   "execution_count": 1,
   "metadata": {},
   "outputs": [],
   "source": [
    "import sys, os, importlib\n",
    "import rasterio\n",
    "\n",
    "import pandas as pd\n",
    "import geopandas as gpd\n",
    "import skimage.graph as graph\n",
    "\n",
    "sys.path.append(\"../src\")\n",
    "\n",
    "import GOSTnetsraster.market_access as ma\n",
    "\n",
    "%load_ext autoreload\n",
    "%autoreload 2"
   ]
  },
  {
   "cell_type": "code",
   "execution_count": 2,
   "metadata": {
    "scrolled": true
   },
   "outputs": [],
   "source": [
    "results_folder = \"tutorial_results\"\n",
    "if not os.path.exists(results_folder):\n",
    "    os.makedirs(results_folder)\n",
    "tutorial_folder = \"tutorial_data\"\n",
    "dests = os.path.join(tutorial_folder, \"SEN_cities.geojson\")\n",
    "friction_surface = os.path.join(tutorial_folder, \"SEN_friction_surface.tif\")\n",
    "\n",
    "inD = gpd.read_file(dests)\n",
    "inR = rasterio.open(friction_surface)\n",
    "inD = inD.to_crs(inR.crs) # destinations and raster need to be in the same CRS\n",
    "\n",
    "frictionD = inR.read()[0,:,:]\n",
    "# convert friction surface to traversal time (lazily). Original data are\n",
    "#    the original data are minutes to travel 1 m, so we will convert to \n",
    "#    minutes to cross the cell\n",
    "frictionD = frictionD * 1000\n",
    "mcp = graph.MCP_Geometric(frictionD)"
   ]
  },
  {
   "cell_type": "code",
   "execution_count": 3,
   "metadata": {},
   "outputs": [
    {
     "name": "stdout",
     "output_type": "stream",
     "text": [
      "\u001b[1;31mSignature:\u001b[0m \u001b[0mma\u001b[0m\u001b[1;33m.\u001b[0m\u001b[0mcalculate_travel_time\u001b[0m\u001b[1;33m(\u001b[0m\u001b[0minH\u001b[0m\u001b[1;33m,\u001b[0m \u001b[0mmcp\u001b[0m\u001b[1;33m,\u001b[0m \u001b[0mdestinations\u001b[0m\u001b[1;33m,\u001b[0m \u001b[0mout_raster\u001b[0m\u001b[1;33m=\u001b[0m\u001b[1;34m''\u001b[0m\u001b[1;33m)\u001b[0m\u001b[1;33m\u001b[0m\u001b[1;33m\u001b[0m\u001b[0m\n",
      "\u001b[1;31mDocstring:\u001b[0m\n",
      "Calculate travel time raster\n",
      "\n",
      "INPUTS\n",
      "    inH [rasterio object] - template raster used to identify locations of destinations\n",
      "    mcp [skimage.graph.MCP_Geometric] - input graph\n",
      "    destinations [geopandas df] - destinations for nearest calculations\n",
      "    \n",
      "LINKS\n",
      "    https://scikit-image.org/docs/0.7.0/api/skimage.graph.mcp.html#skimage.graph.mcp.MCP.find_costs\n",
      "\u001b[1;31mFile:\u001b[0m      c:\\wbg\\work\\code\\gostnetsraster\\src\\gostnetsraster\\market_access.py\n",
      "\u001b[1;31mType:\u001b[0m      function"
     ]
    }
   ],
   "source": [
    "ma.calculate_travel_time?"
   ]
  },
  {
   "cell_type": "code",
   "execution_count": 4,
   "metadata": {},
   "outputs": [],
   "source": [
    "travel_costs, traceback = ma.calculate_travel_time(inR, mcp, inD)\n",
    "travel_costs = travel_costs.astype(inR.meta['dtype'])\n",
    "with rasterio.open(os.path.join(results_folder, \"least_cost_travel_time.tif\"), 'w', **inR.meta) as out_file:\n",
    "    out_file.write_band(1, travel_costs)"
   ]
  },
  {
   "cell_type": "code",
   "execution_count": 5,
   "metadata": {},
   "outputs": [
    {
     "name": "stdout",
     "output_type": "stream",
     "text": [
      "\u001b[1;31mSignature:\u001b[0m\n",
      "\u001b[0mma\u001b[0m\u001b[1;33m.\u001b[0m\u001b[0mgenerate_feature_vectors\u001b[0m\u001b[1;33m(\u001b[0m\u001b[1;33m\n",
      "\u001b[0m    \u001b[0mnetwork_r\u001b[0m\u001b[1;33m,\u001b[0m\u001b[1;33m\n",
      "\u001b[0m    \u001b[0mmcp\u001b[0m\u001b[1;33m,\u001b[0m\u001b[1;33m\n",
      "\u001b[0m    \u001b[0minH\u001b[0m\u001b[1;33m,\u001b[0m\u001b[1;33m\n",
      "\u001b[0m    \u001b[0mthreshold\u001b[0m\u001b[1;33m,\u001b[0m\u001b[1;33m\n",
      "\u001b[0m    \u001b[0mfeatIdx\u001b[0m\u001b[1;33m=\u001b[0m\u001b[1;34m'tempID'\u001b[0m\u001b[1;33m,\u001b[0m\u001b[1;33m\n",
      "\u001b[0m    \u001b[0mverbose\u001b[0m\u001b[1;33m=\u001b[0m\u001b[1;32mTrue\u001b[0m\u001b[1;33m,\u001b[0m\u001b[1;33m\n",
      "\u001b[0m\u001b[1;33m)\u001b[0m\u001b[1;33m\u001b[0m\u001b[1;33m\u001b[0m\u001b[0m\n",
      "\u001b[1;31mDocstring:\u001b[0m\n",
      "Generate individual market sheds for each feature in the input dataset\n",
      "\n",
      "INPUTS\n",
      "    network_r [rasterio] - raster from which to grab index for calculations in MCP\n",
      "    mcp [skimage.graph.MCP_Geometric] - input graph\n",
      "    inH [geopandas data frame] - geopandas data frame from which to calculate features\n",
      "    threshold [list of int] - travel treshold from which to calculate vectors in units of graph\n",
      "    featIdx [string] - column name in inH to append to output marketshed dataset. 'tempID' for default.\n",
      "    \n",
      "RETURNS\n",
      "    [geopandas dataframe]\n",
      "\u001b[1;31mFile:\u001b[0m      c:\\wbg\\work\\code\\gostnetsraster\\src\\gostnetsraster\\market_access.py\n",
      "\u001b[1;31mType:\u001b[0m      function"
     ]
    }
   ],
   "source": [
    "ma.generate_feature_vectors?"
   ]
  },
  {
   "cell_type": "code",
   "execution_count": 6,
   "metadata": {},
   "outputs": [
    {
     "name": "stdout",
     "output_type": "stream",
     "text": [
      "12:06:30\t1 of 30: 0\n",
      "12:06:30\t2 of 30: 1\n",
      "12:06:31\t3 of 30: 2\n",
      "12:06:31\t4 of 30: 3\n",
      "12:06:31\t5 of 30: 4\n",
      "12:06:31\t6 of 30: 5\n",
      "12:06:32\t7 of 30: 6\n",
      "12:06:32\t8 of 30: 7\n",
      "12:06:32\t9 of 30: 8\n",
      "12:06:32\t10 of 30: 9\n",
      "12:06:33\t11 of 30: 10\n",
      "12:06:33\t12 of 30: 11\n",
      "12:06:33\t13 of 30: 12\n",
      "12:06:34\t14 of 30: 13\n",
      "12:06:34\t15 of 30: 14\n",
      "12:06:34\t16 of 30: 15\n",
      "12:06:34\t17 of 30: 16\n",
      "12:06:35\t18 of 30: 17\n",
      "12:06:35\t19 of 30: 18\n",
      "12:06:35\t20 of 30: 19\n",
      "12:06:36\t21 of 30: 20\n",
      "12:06:36\t22 of 30: 21\n",
      "12:06:36\t23 of 30: 22\n",
      "12:06:36\t24 of 30: 23\n",
      "12:06:37\t25 of 30: 24\n",
      "12:06:37\t26 of 30: 25\n",
      "12:06:37\t27 of 30: 26\n",
      "12:06:38\t28 of 30: 27\n",
      "12:06:38\t29 of 30: 28\n",
      "12:06:38\t30 of 30: 29\n"
     ]
    }
   ],
   "source": [
    "drive_time_thresholds = [60, 120, 180, 240] # minutes\n",
    "drive_vectors = ma.generate_feature_vectors(inR, mcp, inD, drive_time_thresholds)\n",
    "drive_vectors.to_file(os.path.join(results_folder, \"drive_vectors.shp\"))"
   ]
  },
  {
   "cell_type": "code",
   "execution_count": 7,
   "metadata": {},
   "outputs": [
    {
     "name": "stdout",
     "output_type": "stream",
     "text": [
      "\u001b[1;31mSignature:\u001b[0m\n",
      "\u001b[0mma\u001b[0m\u001b[1;33m.\u001b[0m\u001b[0mcalculate_gravity\u001b[0m\u001b[1;33m(\u001b[0m\u001b[1;33m\n",
      "\u001b[0m    \u001b[0minH\u001b[0m\u001b[1;33m,\u001b[0m\u001b[1;33m\n",
      "\u001b[0m    \u001b[0mmcp\u001b[0m\u001b[1;33m,\u001b[0m\u001b[1;33m\n",
      "\u001b[0m    \u001b[0mdests\u001b[0m\u001b[1;33m,\u001b[0m\u001b[1;33m\n",
      "\u001b[0m    \u001b[0mgravity_col\u001b[0m\u001b[1;33m,\u001b[0m\u001b[1;33m\n",
      "\u001b[0m    \u001b[0moutfile\u001b[0m\u001b[1;33m=\u001b[0m\u001b[1;34m''\u001b[0m\u001b[1;33m,\u001b[0m\u001b[1;33m\n",
      "\u001b[0m    \u001b[0mdecayVals\u001b[0m\u001b[1;33m=\u001b[0m\u001b[1;33m[\u001b[0m\u001b[1;36m0.01\u001b[0m\u001b[1;33m,\u001b[0m \u001b[1;36m0.005\u001b[0m\u001b[1;33m,\u001b[0m \u001b[1;36m0.001\u001b[0m\u001b[1;33m,\u001b[0m \u001b[1;36m0.0007701635\u001b[0m\u001b[1;33m,\u001b[0m \u001b[1;36m0.0003850818\u001b[0m\u001b[1;33m,\u001b[0m \u001b[1;36m0.0001925409\u001b[0m\u001b[1;33m,\u001b[0m \u001b[1;36m9.62704e-05\u001b[0m\u001b[1;33m,\u001b[0m \u001b[1;36m3.85082e-05\u001b[0m\u001b[1;33m,\u001b[0m \u001b[1;36m1e-05\u001b[0m\u001b[1;33m]\u001b[0m\u001b[1;33m,\u001b[0m\u001b[1;33m\n",
      "\u001b[0m\u001b[1;33m)\u001b[0m\u001b[1;33m\u001b[0m\u001b[1;33m\u001b[0m\u001b[0m\n",
      "\u001b[1;31mDocstring:\u001b[0m\n",
      "Using a friction surface, run a gravity model to evaluate access to all cities\n",
      "\n",
      "Parameters\n",
      "----------\n",
      "inH : rasterio object\n",
      "    rasterio object of friction surface\n",
      "mcp : skimage.graph.MCP_Geometric\n",
      "    graph used to calculate travel times; must match shape of inH\n",
      "dests : geopandas dataframe\n",
      "    Destination coordinates for gravity model, must be in same CRS as inH\n",
      "gravity_col : string\n",
      "    column in dests that describes the attractiveness of the destination\n",
      "outfile : string, optional\n",
      "    Path to save the gravity model output. Defaults to '' which writes nothing\n",
      "decayVals : list, optional\n",
      "    List of decay values for market access. Defaults to a predefined list.\n",
      "\n",
      "Returns\n",
      "-------\n",
      "final_gravity : numpy array\n",
      "    3D array of gravity model results, with the third dimension corresponding to decay values\n",
      "\u001b[1;31mFile:\u001b[0m      c:\\wbg\\work\\code\\gostnetsraster\\src\\gostnetsraster\\market_access.py\n",
      "\u001b[1;31mType:\u001b[0m      function"
     ]
    }
   ],
   "source": [
    "ma.calculate_gravity?"
   ]
  },
  {
   "cell_type": "code",
   "execution_count": 9,
   "metadata": {},
   "outputs": [],
   "source": [
    "# calculate gravity to nearest cities, using the population column GC_POP_TOT_2025\n",
    "gravity_col = \"GC_POP_TOT_2025\"\n",
    "gravity_file = os.path.join(results_folder, f\"gravity_cities_{gravity_col}.tif\")\n",
    "gravity = ma.calculate_gravity(inR, mcp, inD, gravity_col, outfile = gravity_file)"
   ]
  }
 ],
 "metadata": {
  "kernelspec": {
   "display_name": "gn",
   "language": "python",
   "name": "python3"
  },
  "language_info": {
   "codemirror_mode": {
    "name": "ipython",
    "version": 3
   },
   "file_extension": ".py",
   "mimetype": "text/x-python",
   "name": "python",
   "nbconvert_exporter": "python",
   "pygments_lexer": "ipython3",
   "version": "3.11.11"
  }
 },
 "nbformat": 4,
 "nbformat_minor": 2
}
