{
 "cells": [
  {
   "cell_type": "markdown",
   "metadata": {},
   "source": [
    "# Raster-based market access\n",
    "\n",
    "Following in the footsteps of the Malaria Atlas Project's <a href=\"https://developers.google.com/earth-engine/datasets/catalog/Oxford_MAP_friction_surface_2015_v1_0\">Global Friction Surface</a>, this notebook explores a set of tools for calculating:\n",
    "\n",
    "1. Travel time rasters\n",
    "2. Drive-time polygons\n",
    "3. Marketsheds\n"
   ]
  },
  {
   "cell_type": "code",
   "execution_count": null,
   "metadata": {},
   "outputs": [],
   "source": [
    "import sys, os, importlib\n",
    "import rasterio\n",
    "\n",
    "import pandas as pd\n",
    "import geopandas as gpd\n",
    "import skimage.graph as graph\n",
    "\n",
    "sys.path.append(\"../src\")\n",
    "\n",
    "import GOSTnetsraster.market_access as ma\n",
    "\n",
    "%load_ext autoreload\n",
    "%autoreload 2"
   ]
  },
  {
   "cell_type": "code",
   "execution_count": null,
   "metadata": {
    "scrolled": true
   },
   "outputs": [],
   "source": [
    "results_folder = \"tutorial_results\"\n",
    "if not os.path.exists(results_folder):\n",
    "    os.makedirs(results_folder)\n",
    "tutorial_folder = \"tutorial_data\"\n",
    "dests = os.path.join(tutorial_folder, \"SEN_cities.geojson\")\n",
    "friction_surface = os.path.join(tutorial_folder, \"SEN_friction_surface.tif\")\n",
    "\n",
    "inD = gpd.read_file(dests)\n",
    "inR = rasterio.open(friction_surface)\n",
    "inD = inD.to_crs(inR.crs) # destinations and raster need to be in the same CRS\n",
    "\n",
    "frictionD = inR.read()[0,:,:]\n",
    "# convert friction surface to traversal time (lazily). Original data are\n",
    "#    the original data are minutes to travel 1 m, so we will convert to \n",
    "#    minutes to cross the cell\n",
    "frictionD = frictionD * 1000\n",
    "mcp = graph.MCP_Geometric(frictionD)"
   ]
  },
  {
   "cell_type": "code",
   "execution_count": null,
   "metadata": {},
   "outputs": [],
   "source": [
    "ma.calculate_travel_time?"
   ]
  },
  {
   "cell_type": "code",
   "execution_count": null,
   "metadata": {},
   "outputs": [],
   "source": [
    "travel_costs, traceback = ma.calculate_travel_time(inR, mcp, inD)\n",
    "travel_costs = travel_costs.astype(inR.meta['dtype'])\n",
    "with rasterio.open(os.path.join(results_folder, \"least_cost_travel_time.tif\"), 'w', **inR.meta) as out_file:\n",
    "    out_file.write_band(1, travel_costs)"
   ]
  },
  {
   "cell_type": "code",
   "execution_count": null,
   "metadata": {},
   "outputs": [],
   "source": [
    "ma.generate_feature_vectors?"
   ]
  },
  {
   "cell_type": "code",
   "execution_count": null,
   "metadata": {},
   "outputs": [],
   "source": [
    "drive_time_thresholds = [60, 120, 180, 240] # minutes\n",
    "drive_vectors = ma.generate_feature_vectors(inR, mcp, inD, drive_time_thresholds)\n",
    "drive_vectors.to_file(os.path.join(results_folder, \"drive_vectors.shp\"))"
   ]
  },
  {
   "cell_type": "code",
   "execution_count": null,
   "metadata": {},
   "outputs": [],
   "source": [
    "ma.calculate_gravity?"
   ]
  },
  {
   "cell_type": "code",
   "execution_count": null,
   "metadata": {},
   "outputs": [],
   "source": [
    "# calculate gravity to nearest cities, using the population column GC_POP_TOT_2025\n",
    "gravity_col = \"GC_POP_TOT_2025\"\n",
    "gravity_file = os.path.join(results_folder, f\"gravity_cities_{gravity_col}.tif\")\n",
    "gravity = ma.calculate_gravity(inR, mcp, inD, gravity_col, outfile = gravity_file)"
   ]
  }
 ],
 "metadata": {
  "kernelspec": {
   "display_name": "gn",
   "language": "python",
   "name": "python3"
  },
  "language_info": {
   "codemirror_mode": {
    "name": "ipython",
    "version": 3
   },
   "file_extension": ".py",
   "mimetype": "text/x-python",
   "name": "python",
   "nbconvert_exporter": "python",
   "pygments_lexer": "ipython3",
   "version": "3.11.11"
  }
 },
 "nbformat": 4,
 "nbformat_minor": 2
}
