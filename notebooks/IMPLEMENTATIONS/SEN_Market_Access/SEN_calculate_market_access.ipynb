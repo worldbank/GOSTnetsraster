{
 "cells": [
  {
   "cell_type": "markdown",
   "metadata": {},
   "source": [
    "# Senegal Market Access\n",
    "Using the global friction surface (Weiss et al. 2019) calculate market access to cities > 50,000 in Senegal and within 50km buffer of the country"
   ]
  },
  {
   "cell_type": "code",
   "execution_count": 8,
   "metadata": {},
   "outputs": [
    {
     "name": "stdout",
     "output_type": "stream",
     "text": [
      "The autoreload extension is already loaded. To reload it, use:\n",
      "  %reload_ext autoreload\n"
     ]
    }
   ],
   "source": [
    "import sys, os\n",
    "import rasterio\n",
    "\n",
    "import numpy as np\n",
    "import pandas as pd\n",
    "import geopandas as gpd\n",
    "import skimage.graph as graph\n",
    "\n",
    "sys.path.insert(0, r\"../../src\")\n",
    "\n",
    "import GOSTnetsraster.market_access as ma\n",
    "\n",
    "%load_ext autoreload\n",
    "%autoreload 2"
   ]
  },
  {
   "cell_type": "code",
   "execution_count": 2,
   "metadata": {},
   "outputs": [],
   "source": [
    "iso3 = 'SEN'\n",
    "working_folder = \"C:/WBG/Work/Projects/SEN_MA\"\n",
    "data_folder = os.path.join(working_folder, \"data\")\n",
    "results_folder = os.path.join(working_folder, \"results\")\n",
    "\n",
    "for cfolder in [working_folder, data_folder, results_folder]:\n",
    "    if not os.path.exists(cfolder):\n",
    "        os.makedirs(cfolder)  \n",
    "\n",
    "# define input data\n",
    "sen_friction = os.path.join(data_folder, \"SEN_friction_surface.tif\")\n",
    "aoi_file = os.path.join(data_folder, \"SEN_AOI_buffer.geojson\")\n",
    "city_file = os.path.join(data_folder, \"SEN_cities.geojson\")\n",
    "\n",
    "if not os.path.exists(aoi_file):\n",
    "    global_admin = r\"C:\\WBG\\Work\\data\\ADMIN\\ADM0.shp\"\n",
    "    all_admin = gpd.read_file(global_admin)\n",
    "    sen_admin = all_admin.loc[all_admin['ISO_A3'] == iso3]\n",
    "    sen_admin = sen_admin.to_crs(3857)\n",
    "    sen_admin['geometry'] = sen_admin.buffer(50000) # 50km buffer\n",
    "    sen_admin.to_file(aoi_file, driver='GeoJSON')\n",
    "in_aoi = gpd.read_file(aoi_file)\n",
    "\n",
    "if not os.path.exists(sen_friction):\n",
    "    import GOSTrocks.rasterMisc as rMisc\n",
    "    global_friction = r\"C:\\WBG\\Work\\data\\FRICTION\\2020_motorized_friction_surface.geotiff\"\n",
    "    cur_r = rMisc.clipRaster(rasterio.open(global_friction), in_aoi, sen_friction, crop=False)\n",
    "in_friction = rasterio.open(sen_friction)\n",
    "    \n",
    "if not os.path.exists(city_file):\n",
    "    global_cities = r\"C:/WBG/Work/data/URBAN/GHS_UCDB_GLOBE_R2024A.gpkg\"\n",
    "    all_city = gpd.read_file(global_cities)\n",
    "    in_aoi = in_aoi.to_crs(all_city.crs)\n",
    "    sel_city = gpd.sjoin(all_city, in_aoi, how='inner')\n",
    "    sel_city.loc[:, ['ID_UC_G0','GC_UCN_MAI_2025','GC_CNT_GAD_2025','GC_POP_TOT_2025','geometry']].to_file(city_file, driver='GeoJSON')\n",
    "dests = gpd.read_file(city_file)     "
   ]
  },
  {
   "cell_type": "code",
   "execution_count": 3,
   "metadata": {},
   "outputs": [],
   "source": [
    "frictionD = in_friction.read()[0,:,:]\n",
    "# convert friction surface to traversal time (lazily). Original data are\n",
    "#    the original data are minutes to travel 1 m, so we will convert to \n",
    "#    minutes to cross the cell\n",
    "frictionD = frictionD * 1000\n",
    "mcp = graph.MCP_Geometric(frictionD)"
   ]
  },
  {
   "cell_type": "code",
   "execution_count": 5,
   "metadata": {},
   "outputs": [
    {
     "name": "stderr",
     "output_type": "stream",
     "text": [
      "C:\\Users\\WB411133\\AppData\\Local\\Temp\\ipykernel_20612\\3328050362.py:2: UserWarning: Geometry is in a geographic CRS. Results from 'centroid' are likely incorrect. Use 'GeoSeries.to_crs()' to re-project geometries to a projected CRS before this operation.\n",
      "\n",
      "  dests['geometry'] = dests['geometry'].centroid\n"
     ]
    }
   ],
   "source": [
    "# Convert the cities geometry to centroid, then project to crs of friction surface\n",
    "dests['geometry'] = dests['geometry'].centroid\n",
    "dests = dests.to_crs(in_friction.crs)\n",
    "\n",
    "# calculate travel time to nearest cities\n",
    "travel_costs, traceback = ma.calculate_travel_time(in_friction, mcp, dests)\n",
    "travel_costs = travel_costs.astype(in_friction.meta['dtype'])\n",
    "with rasterio.open(os.path.join(results_folder, \"least_cost_travel_time_cities.tif\"), 'w', **in_friction.meta) as out_file:\n",
    "    out_file.write_band(1, travel_costs)"
   ]
  },
  {
   "cell_type": "code",
   "execution_count": 37,
   "metadata": {},
   "outputs": [],
   "source": [
    "# calculate gravity to nearest cities, using the population column GC_POP_TOT_2025\n",
    "gravity_col = \"GC_POP_TOT_2025\"\n",
    "gravity_file = os.path.join(results_folder, f\"gravity_cities_{gravity_col}.tif\")\n",
    "gravity = ma.calculate_gravity(in_friction, mcp, dests, gravity_col, outfile = gravity_file)"
   ]
  }
 ],
 "metadata": {
  "kernelspec": {
   "display_name": "gosttest",
   "language": "python",
   "name": "python3"
  },
  "language_info": {
   "codemirror_mode": {
    "name": "ipython",
    "version": 3
   },
   "file_extension": ".py",
   "mimetype": "text/x-python",
   "name": "python",
   "nbconvert_exporter": "python",
   "pygments_lexer": "ipython3",
   "version": "3.11.11"
  }
 },
 "nbformat": 4,
 "nbformat_minor": 2
}
