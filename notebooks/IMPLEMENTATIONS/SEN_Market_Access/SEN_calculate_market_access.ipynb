{
 "cells": [
  {
   "cell_type": "markdown",
   "metadata": {},
   "source": [
    "# Senegal Market Access\n",
    "Using the global friction surface (Weiss et al. 2019) calculate market access to cities > 50,000 in Senegal and within 50km buffer of the country"
   ]
  },
  {
   "cell_type": "code",
   "execution_count": 38,
   "metadata": {},
   "outputs": [
    {
     "name": "stdout",
     "output_type": "stream",
     "text": [
      "The autoreload extension is already loaded. To reload it, use:\n",
      "  %reload_ext autoreload\n"
     ]
    }
   ],
   "source": [
    "import sys, os\n",
    "import rasterio\n",
    "\n",
    "import numpy as np\n",
    "import pandas as pd\n",
    "import geopandas as gpd\n",
    "import skimage.graph as graph\n",
    "\n",
    "sys.path.insert(0, r\"../../src\")\n",
    "\n",
    "import GOSTnetsraster.market_access as ma\n",
    "\n",
    "%load_ext autoreload\n",
    "%autoreload 2"
   ]
  },
  {
   "cell_type": "code",
   "execution_count": 2,
   "metadata": {},
   "outputs": [],
   "source": [
    "iso3 = 'SEN'\n",
    "working_folder = \"C:/WBG/Work/Projects/SEN_MA\"\n",
    "data_folder = os.path.join(working_folder, \"data\")\n",
    "results_folder = os.path.join(working_folder, \"results\")\n",
    "\n",
    "for cfolder in [working_folder, data_folder, results_folder]:\n",
    "    if not os.path.exists(cfolder):\n",
    "        os.makedirs(cfolder)  \n",
    "\n",
    "# define input data\n",
    "sen_friction = os.path.join(data_folder, \"SEN_friction_surface.tif\")\n",
    "aoi_file = os.path.join(data_folder, \"SEN_AOI_buffer.geojson\")\n",
    "city_file = os.path.join(data_folder, \"SEN_cities.geojson\")\n",
    "\n",
    "if not os.path.exists(aoi_file):\n",
    "    global_admin = r\"C:\\WBG\\Work\\data\\ADMIN\\ADM0.shp\"\n",
    "    all_admin = gpd.read_file(global_admin)\n",
    "    sen_admin = all_admin.loc[all_admin['ISO_A3'] == iso3]\n",
    "    sen_admin = sen_admin.to_crs(3857)\n",
    "    sen_admin['geometry'] = sen_admin.buffer(50000) # 50km buffer\n",
    "    sen_admin.to_file(aoi_file, driver='GeoJSON')\n",
    "in_aoi = gpd.read_file(aoi_file)\n",
    "\n",
    "if not os.path.exists(sen_friction):\n",
    "    import GOSTrocks.rasterMisc as rMisc\n",
    "    global_friction = r\"C:\\WBG\\Work\\data\\FRICTION\\2020_motorized_friction_surface.geotiff\"\n",
    "    cur_r = rMisc.clipRaster(rasterio.open(global_friction), in_aoi, sen_friction, crop=False)\n",
    "in_friction = rasterio.open(sen_friction)\n",
    "    \n",
    "if not os.path.exists(city_file):\n",
    "    global_cities = r\"C:/WBG/Work/data/URBAN/GHS_UCDB_GLOBE_R2024A.gpkg\"\n",
    "    all_city = gpd.read_file(global_cities)\n",
    "    in_aoi = in_aoi.to_crs(all_city.crs)\n",
    "    sel_city = gpd.sjoin(all_city, in_aoi, how='inner')\n",
    "    sel_city.loc[:, ['ID_UC_G0','GC_UCN_MAI_2025','GC_CNT_GAD_2025','GC_POP_TOT_2025','geometry']].to_file(city_file, driver='GeoJSON')\n",
    "dests = gpd.read_file(city_file)     "
   ]
  },
  {
   "cell_type": "code",
   "execution_count": 3,
   "metadata": {},
   "outputs": [],
   "source": [
    "frictionD = in_friction.read()[0,:,:]\n",
    "# convert friction surface to traversal time (lazily). Original data are\n",
    "#    the original data are minutes to travel 1 m, so we will convert to \n",
    "#    minutes to cross the cell\n",
    "frictionD = frictionD * 1000\n",
    "mcp = graph.MCP_Geometric(frictionD)"
   ]
  },
  {
   "cell_type": "code",
   "execution_count": 5,
   "metadata": {},
   "outputs": [
    {
     "name": "stderr",
     "output_type": "stream",
     "text": [
      "C:\\Users\\WB411133\\AppData\\Local\\Temp\\ipykernel_20612\\3328050362.py:2: UserWarning: Geometry is in a geographic CRS. Results from 'centroid' are likely incorrect. Use 'GeoSeries.to_crs()' to re-project geometries to a projected CRS before this operation.\n",
      "\n",
      "  dests['geometry'] = dests['geometry'].centroid\n"
     ]
    }
   ],
   "source": [
    "# Convert the cities geometry to centroid, then project to crs of friction surface\n",
    "dests['geometry'] = dests['geometry'].centroid\n",
    "dests = dests.to_crs(in_friction.crs)\n",
    "\n",
    "# calculate travel time to nearest cities\n",
    "travel_costs, traceback = ma.calculate_travel_time(in_friction, mcp, dests)\n",
    "travel_costs = travel_costs.astype(in_friction.meta['dtype'])\n",
    "with rasterio.open(os.path.join(results_folder, \"least_cost_travel_time_cities.tif\"), 'w', **in_friction.meta) as out_file:\n",
    "    out_file.write_band(1, travel_costs)"
   ]
  },
  {
   "cell_type": "code",
   "execution_count": 99,
   "metadata": {},
   "outputs": [
    {
     "name": "stdout",
     "output_type": "stream",
     "text": [
      "0:Dakar\n",
      "1:Serrekunda\n",
      "2:M'bour\n",
      "3:Brikama\n",
      "4:Thiès\n",
      "5:Gabu\n",
      "6:Basse Santa Su\n",
      "7:Kaédi\n",
      "8:Darou Khoudoss\n",
      "9:Tivaouane\n",
      "10:Bambey\n",
      "11:Saint-Louis\n",
      "12:Fatick\n",
      "13:Ziguinchor\n",
      "14:Bignona\n",
      "15:Diourbel\n",
      "16:Louga\n",
      "17:Kaolack\n",
      "18:Darou Mousty\n",
      "19:Touba\n",
      "20:Sédhiou\n",
      "21:Richard-Toll\n",
      "22:Kaffrine\n",
      "23:Dahra Djoloff\n",
      "24:Kolda\n",
      "25:Koungheul\n",
      "26:Vélingara\n",
      "27:Médina Gounass\n",
      "28:Tambacounda\n",
      "29:Kedougou\n"
     ]
    }
   ],
   "source": [
    "# calculate gravity to nearest cities, using the population column GC_POP_TOT_2025\n",
    "gravity_col = \"GC_POP_TOT_2025\"\n",
    "gravity_file = os.path.join(results_folder, f\"gravity_cities_{gravity_col}_one_band.tif\")\n",
    "gravity = ma.calculate_gravity(in_friction, mcp, dests, gravity_col, outfile = gravity_file, decayVals=[0.0003850])"
   ]
  },
  {
   "cell_type": "code",
   "execution_count": 92,
   "metadata": {},
   "outputs": [
    {
     "data": {
      "text/plain": [
       "array([3970201.794  , 1313464.797  ,  506407.1053 ,  213625.807  ,\n",
       "        483414.6727 ,   86490.69096,   64316.98188,   61350.09904,\n",
       "         65892.27379,  138729.0962 ,   59471.7285 ,  263603.0204 ,\n",
       "         64861.15138,  288803.6113 ,   82776.49342,  220539.7198 ,\n",
       "        187360.2719 ,  406200.8382 ,   53486.55792, 1170258.55   ,\n",
       "         60980.41171,   80805.62807,   94450.60387,   73946.19702,\n",
       "        199859.8099 ,   63226.41215,   84758.86684,   67376.52666,\n",
       "        241376.9138 ,   60486.29122])"
      ]
     },
     "execution_count": 92,
     "metadata": {},
     "output_type": "execute_result"
    }
   ],
   "source": [
    "dests[gravity_col].values"
   ]
  },
  {
   "cell_type": "code",
   "execution_count": 93,
   "metadata": {},
   "outputs": [],
   "source": [
    "row = 447\n",
    "col = 153"
   ]
  },
  {
   "cell_type": "code",
   "execution_count": 94,
   "metadata": {},
   "outputs": [
    {
     "data": {
      "text/plain": [
       "array([295.74580021,   2.5       , 251.93713479,  14.08291267,\n",
       "       278.14208986, 472.22487016, 293.41313211, 675.38490775,\n",
       "       318.49574595, 291.97014499, 237.46132868, 409.59369927,\n",
       "       201.77604626, 147.84057723, 125.08470354, 218.47114054,\n",
       "       360.15288015, 169.5391526 , 285.18195993, 252.92339744,\n",
       "       226.51903381, 489.17990662, 218.59966616, 321.65045033,\n",
       "       284.97088414, 288.52251575, 378.22748597, 419.37604488,\n",
       "       388.28293236, 561.76316821])"
      ]
     },
     "execution_count": 94,
     "metadata": {},
     "output_type": "execute_result"
    }
   ],
   "source": [
    "gravity['costs'][row, col]"
   ]
  },
  {
   "cell_type": "code",
   "execution_count": 95,
   "metadata": {},
   "outputs": [
    {
     "data": {
      "text/plain": [
       "9765624.055253685"
      ]
     },
     "execution_count": 95,
     "metadata": {},
     "output_type": "execute_result"
    }
   ],
   "source": [
    "gravity['gravity'][row,col]"
   ]
  },
  {
   "cell_type": "code",
   "execution_count": 96,
   "metadata": {},
   "outputs": [
    {
     "data": {
      "text/plain": [
       "array([277.45820866, 510.43579912, 278.36976152, 520.99268432,\n",
       "       242.92991609, 823.1494935 , 649.00421489, 321.97998791,\n",
       "       245.67698715, 226.41620709, 273.53452968, 102.17645351,\n",
       "       327.83287716, 654.75034888, 631.99447519, 292.80033028,\n",
       "       153.51074083, 342.38950923, 260.03420821, 297.2155371 ,\n",
       "       658.76768432,  21.70103989, 392.52224029, 261.87110183,\n",
       "       683.16142648, 462.44508989, 644.76990017, 630.45422873,\n",
       "       555.9513403 , 717.40152416])"
      ]
     },
     "execution_count": 96,
     "metadata": {},
     "output_type": "execute_result"
    }
   ],
   "source": [
    "row = 83\n",
    "col = 285\n",
    "gravity['costs'][row, col]"
   ]
  },
  {
   "cell_type": "code",
   "execution_count": 97,
   "metadata": {},
   "outputs": [
    {
     "data": {
      "text/plain": [
       "9388545.490043154"
      ]
     },
     "execution_count": 97,
     "metadata": {},
     "output_type": "execute_result"
    }
   ],
   "source": [
    "gravity['gravity'][row,col]"
   ]
  },
  {
   "cell_type": "code",
   "execution_count": 98,
   "metadata": {},
   "outputs": [
    {
     "data": {
      "text/plain": [
       "(30, 5)"
      ]
     },
     "execution_count": 98,
     "metadata": {},
     "output_type": "execute_result"
    }
   ],
   "source": [
    "dests.shape"
   ]
  },
  {
   "cell_type": "code",
   "execution_count": null,
   "metadata": {},
   "outputs": [],
   "source": []
  }
 ],
 "metadata": {
  "kernelspec": {
   "display_name": "gosttest",
   "language": "python",
   "name": "python3"
  },
  "language_info": {
   "codemirror_mode": {
    "name": "ipython",
    "version": 3
   },
   "file_extension": ".py",
   "mimetype": "text/x-python",
   "name": "python",
   "nbconvert_exporter": "python",
   "pygments_lexer": "ipython3",
   "version": "3.11.11"
  }
 },
 "nbformat": 4,
 "nbformat_minor": 2
}
